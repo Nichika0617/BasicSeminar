{
  "nbformat": 4,
  "nbformat_minor": 0,
  "metadata": {
    "colab": {
      "name": "BasicSeminar10-2.ipynb",
      "provenance": [],
      "collapsed_sections": [
        "lkNxhhYpn-7b",
        "3un0ydG55YTx"
      ],
      "authorship_tag": "ABX9TyMjcs0mmi1gu4T/LV3396kF",
      "include_colab_link": true
    },
    "kernelspec": {
      "name": "python3",
      "display_name": "Python 3"
    },
    "language_info": {
      "name": "python"
    }
  },
  "cells": [
    {
      "cell_type": "markdown",
      "metadata": {
        "id": "view-in-github",
        "colab_type": "text"
      },
      "source": [
        "<a href=\"https://colab.research.google.com/github/Nichika0617/BasicSeminar/blob/main/BasicSeminar10_2.ipynb\" target=\"_parent\"><img src=\"https://colab.research.google.com/assets/colab-badge.svg\" alt=\"Open In Colab\"/></a>"
      ]
    },
    {
      "cell_type": "markdown",
      "source": [
        "### 使用するデータセット"
      ],
      "metadata": {
        "id": "q3_-Czyr5NkE"
      }
    },
    {
      "cell_type": "markdown",
      "source": [
        "Housingデータセット\n",
        "\n",
        "* CRIM\n",
        "  * 犯罪発生率(人口単位)\n",
        "* ZN\n",
        "  * 25,000 平方フィート以上の住宅区画の割合\n",
        "* INDUS \n",
        "  * 非小売業の土地面積の割合(人口単位)\n",
        "* CHAS \n",
        "  * チャールズ川沿いかどうか(チャールズ川沿いの場合は 1 、そうではない場合は 0)\n",
        "* NOX \n",
        "  * 窒素酸化物の濃度(pphm 単位)\n",
        "* RM \n",
        "  * 1 戸あたりの平均部屋数\n",
        "* AGE \n",
        "  * 1940 年よりも前に建てられた家屋の割合\n",
        "* DIS \n",
        "  * ボストンの主な 5 つの雇用圏までの重み付きの距離\n",
        "* RAD \n",
        "  * 幹線道路へのアクセス指数\n",
        "* TAX \n",
        "  * 10,000 ドルあたりの所得税率\n",
        "* PTRATIO \n",
        "  * 教師 1 人あたりの生徒の数(人口単位)\n",
        "* B \n",
        "  * $1000(Bk – 0.63)^2$ として計算:Bk はアフリカ系アメリカ人居住者の割合(人口単位) 10\n",
        "* LSTAT \n",
        "  * 低所得者の割合\n",
        "* MEDV \n",
        "  * 住宅価格の中央値(単位 1,000 ドル)"
      ],
      "metadata": {
        "id": "c8MUL-nO7n5p"
      }
    },
    {
      "cell_type": "code",
      "source": [
        "import pandas as pd\n",
        "\n",
        "df = pd.read_csv('https://raw.githubusercontent.com/rasbt/'\n",
        "                 'python-machine-learning-book-3rd-edition/'\n",
        "                 'master/ch10/housing.data.txt',\n",
        "                 header=None,\n",
        "                 sep='\\s+')\n",
        "\n",
        "df.columns = ['CRIM', 'ZN', 'INDUS', 'CHAS', \n",
        "              'NOX', 'RM', 'AGE', 'DIS', 'RAD', \n",
        "              'TAX', 'PTRATIO', 'B', 'LSTAT', 'MEDV']\n",
        "\n",
        "print(f'行数{len(df)}，列数{len(df.columns)}')\n",
        "print()\n",
        "\n",
        "df.head()\n"
      ],
      "metadata": {
        "colab": {
          "base_uri": "https://localhost:8080/",
          "height": 305
        },
        "id": "hfp9xF9E7yi6",
        "outputId": "5b65db3a-5513-4d2e-d3e5-88f1552b694c"
      },
      "execution_count": 1,
      "outputs": [
        {
          "output_type": "stream",
          "name": "stdout",
          "text": [
            "行数506，列数14\n",
            "\n"
          ]
        },
        {
          "output_type": "execute_result",
          "data": {
            "text/plain": [
              "      CRIM    ZN  INDUS  CHAS    NOX     RM   AGE     DIS  RAD    TAX  \\\n",
              "0  0.00632  18.0   2.31     0  0.538  6.575  65.2  4.0900    1  296.0   \n",
              "1  0.02731   0.0   7.07     0  0.469  6.421  78.9  4.9671    2  242.0   \n",
              "2  0.02729   0.0   7.07     0  0.469  7.185  61.1  4.9671    2  242.0   \n",
              "3  0.03237   0.0   2.18     0  0.458  6.998  45.8  6.0622    3  222.0   \n",
              "4  0.06905   0.0   2.18     0  0.458  7.147  54.2  6.0622    3  222.0   \n",
              "\n",
              "   PTRATIO       B  LSTAT  MEDV  \n",
              "0     15.3  396.90   4.98  24.0  \n",
              "1     17.8  396.90   9.14  21.6  \n",
              "2     17.8  392.83   4.03  34.7  \n",
              "3     18.7  394.63   2.94  33.4  \n",
              "4     18.7  396.90   5.33  36.2  "
            ],
            "text/html": [
              "\n",
              "  <div id=\"df-89ba5835-7362-4b42-a310-678633803d5e\">\n",
              "    <div class=\"colab-df-container\">\n",
              "      <div>\n",
              "<style scoped>\n",
              "    .dataframe tbody tr th:only-of-type {\n",
              "        vertical-align: middle;\n",
              "    }\n",
              "\n",
              "    .dataframe tbody tr th {\n",
              "        vertical-align: top;\n",
              "    }\n",
              "\n",
              "    .dataframe thead th {\n",
              "        text-align: right;\n",
              "    }\n",
              "</style>\n",
              "<table border=\"1\" class=\"dataframe\">\n",
              "  <thead>\n",
              "    <tr style=\"text-align: right;\">\n",
              "      <th></th>\n",
              "      <th>CRIM</th>\n",
              "      <th>ZN</th>\n",
              "      <th>INDUS</th>\n",
              "      <th>CHAS</th>\n",
              "      <th>NOX</th>\n",
              "      <th>RM</th>\n",
              "      <th>AGE</th>\n",
              "      <th>DIS</th>\n",
              "      <th>RAD</th>\n",
              "      <th>TAX</th>\n",
              "      <th>PTRATIO</th>\n",
              "      <th>B</th>\n",
              "      <th>LSTAT</th>\n",
              "      <th>MEDV</th>\n",
              "    </tr>\n",
              "  </thead>\n",
              "  <tbody>\n",
              "    <tr>\n",
              "      <th>0</th>\n",
              "      <td>0.00632</td>\n",
              "      <td>18.0</td>\n",
              "      <td>2.31</td>\n",
              "      <td>0</td>\n",
              "      <td>0.538</td>\n",
              "      <td>6.575</td>\n",
              "      <td>65.2</td>\n",
              "      <td>4.0900</td>\n",
              "      <td>1</td>\n",
              "      <td>296.0</td>\n",
              "      <td>15.3</td>\n",
              "      <td>396.90</td>\n",
              "      <td>4.98</td>\n",
              "      <td>24.0</td>\n",
              "    </tr>\n",
              "    <tr>\n",
              "      <th>1</th>\n",
              "      <td>0.02731</td>\n",
              "      <td>0.0</td>\n",
              "      <td>7.07</td>\n",
              "      <td>0</td>\n",
              "      <td>0.469</td>\n",
              "      <td>6.421</td>\n",
              "      <td>78.9</td>\n",
              "      <td>4.9671</td>\n",
              "      <td>2</td>\n",
              "      <td>242.0</td>\n",
              "      <td>17.8</td>\n",
              "      <td>396.90</td>\n",
              "      <td>9.14</td>\n",
              "      <td>21.6</td>\n",
              "    </tr>\n",
              "    <tr>\n",
              "      <th>2</th>\n",
              "      <td>0.02729</td>\n",
              "      <td>0.0</td>\n",
              "      <td>7.07</td>\n",
              "      <td>0</td>\n",
              "      <td>0.469</td>\n",
              "      <td>7.185</td>\n",
              "      <td>61.1</td>\n",
              "      <td>4.9671</td>\n",
              "      <td>2</td>\n",
              "      <td>242.0</td>\n",
              "      <td>17.8</td>\n",
              "      <td>392.83</td>\n",
              "      <td>4.03</td>\n",
              "      <td>34.7</td>\n",
              "    </tr>\n",
              "    <tr>\n",
              "      <th>3</th>\n",
              "      <td>0.03237</td>\n",
              "      <td>0.0</td>\n",
              "      <td>2.18</td>\n",
              "      <td>0</td>\n",
              "      <td>0.458</td>\n",
              "      <td>6.998</td>\n",
              "      <td>45.8</td>\n",
              "      <td>6.0622</td>\n",
              "      <td>3</td>\n",
              "      <td>222.0</td>\n",
              "      <td>18.7</td>\n",
              "      <td>394.63</td>\n",
              "      <td>2.94</td>\n",
              "      <td>33.4</td>\n",
              "    </tr>\n",
              "    <tr>\n",
              "      <th>4</th>\n",
              "      <td>0.06905</td>\n",
              "      <td>0.0</td>\n",
              "      <td>2.18</td>\n",
              "      <td>0</td>\n",
              "      <td>0.458</td>\n",
              "      <td>7.147</td>\n",
              "      <td>54.2</td>\n",
              "      <td>6.0622</td>\n",
              "      <td>3</td>\n",
              "      <td>222.0</td>\n",
              "      <td>18.7</td>\n",
              "      <td>396.90</td>\n",
              "      <td>5.33</td>\n",
              "      <td>36.2</td>\n",
              "    </tr>\n",
              "  </tbody>\n",
              "</table>\n",
              "</div>\n",
              "      <button class=\"colab-df-convert\" onclick=\"convertToInteractive('df-89ba5835-7362-4b42-a310-678633803d5e')\"\n",
              "              title=\"Convert this dataframe to an interactive table.\"\n",
              "              style=\"display:none;\">\n",
              "        \n",
              "  <svg xmlns=\"http://www.w3.org/2000/svg\" height=\"24px\"viewBox=\"0 0 24 24\"\n",
              "       width=\"24px\">\n",
              "    <path d=\"M0 0h24v24H0V0z\" fill=\"none\"/>\n",
              "    <path d=\"M18.56 5.44l.94 2.06.94-2.06 2.06-.94-2.06-.94-.94-2.06-.94 2.06-2.06.94zm-11 1L8.5 8.5l.94-2.06 2.06-.94-2.06-.94L8.5 2.5l-.94 2.06-2.06.94zm10 10l.94 2.06.94-2.06 2.06-.94-2.06-.94-.94-2.06-.94 2.06-2.06.94z\"/><path d=\"M17.41 7.96l-1.37-1.37c-.4-.4-.92-.59-1.43-.59-.52 0-1.04.2-1.43.59L10.3 9.45l-7.72 7.72c-.78.78-.78 2.05 0 2.83L4 21.41c.39.39.9.59 1.41.59.51 0 1.02-.2 1.41-.59l7.78-7.78 2.81-2.81c.8-.78.8-2.07 0-2.86zM5.41 20L4 18.59l7.72-7.72 1.47 1.35L5.41 20z\"/>\n",
              "  </svg>\n",
              "      </button>\n",
              "      \n",
              "  <style>\n",
              "    .colab-df-container {\n",
              "      display:flex;\n",
              "      flex-wrap:wrap;\n",
              "      gap: 12px;\n",
              "    }\n",
              "\n",
              "    .colab-df-convert {\n",
              "      background-color: #E8F0FE;\n",
              "      border: none;\n",
              "      border-radius: 50%;\n",
              "      cursor: pointer;\n",
              "      display: none;\n",
              "      fill: #1967D2;\n",
              "      height: 32px;\n",
              "      padding: 0 0 0 0;\n",
              "      width: 32px;\n",
              "    }\n",
              "\n",
              "    .colab-df-convert:hover {\n",
              "      background-color: #E2EBFA;\n",
              "      box-shadow: 0px 1px 2px rgba(60, 64, 67, 0.3), 0px 1px 3px 1px rgba(60, 64, 67, 0.15);\n",
              "      fill: #174EA6;\n",
              "    }\n",
              "\n",
              "    [theme=dark] .colab-df-convert {\n",
              "      background-color: #3B4455;\n",
              "      fill: #D2E3FC;\n",
              "    }\n",
              "\n",
              "    [theme=dark] .colab-df-convert:hover {\n",
              "      background-color: #434B5C;\n",
              "      box-shadow: 0px 1px 3px 1px rgba(0, 0, 0, 0.15);\n",
              "      filter: drop-shadow(0px 1px 2px rgba(0, 0, 0, 0.3));\n",
              "      fill: #FFFFFF;\n",
              "    }\n",
              "  </style>\n",
              "\n",
              "      <script>\n",
              "        const buttonEl =\n",
              "          document.querySelector('#df-89ba5835-7362-4b42-a310-678633803d5e button.colab-df-convert');\n",
              "        buttonEl.style.display =\n",
              "          google.colab.kernel.accessAllowed ? 'block' : 'none';\n",
              "\n",
              "        async function convertToInteractive(key) {\n",
              "          const element = document.querySelector('#df-89ba5835-7362-4b42-a310-678633803d5e');\n",
              "          const dataTable =\n",
              "            await google.colab.kernel.invokeFunction('convertToInteractive',\n",
              "                                                     [key], {});\n",
              "          if (!dataTable) return;\n",
              "\n",
              "          const docLinkHtml = 'Like what you see? Visit the ' +\n",
              "            '<a target=\"_blank\" href=https://colab.research.google.com/notebooks/data_table.ipynb>data table notebook</a>'\n",
              "            + ' to learn more about interactive tables.';\n",
              "          element.innerHTML = '';\n",
              "          dataTable['output_type'] = 'display_data';\n",
              "          await google.colab.output.renderOutput(dataTable, element);\n",
              "          const docLink = document.createElement('div');\n",
              "          docLink.innerHTML = docLinkHtml;\n",
              "          element.appendChild(docLink);\n",
              "        }\n",
              "      </script>\n",
              "    </div>\n",
              "  </div>\n",
              "  "
            ]
          },
          "metadata": {},
          "execution_count": 1
        }
      ]
    },
    {
      "cell_type": "markdown",
      "source": [
        "### 前節の結果\n",
        "P287"
      ],
      "metadata": {
        "id": "92Nl44NO8rdd"
      }
    },
    {
      "cell_type": "code",
      "source": [
        "\n",
        "\n",
        "import matplotlib.pyplot as plt\n",
        "\n",
        "X = df[['RM']].values\n",
        "y = df['MEDV'].values\n",
        "\n",
        "def lin_regplot(X, y, model):\n",
        "    plt.scatter(X, y, c='steelblue', edgecolor='white', s=70)\n",
        "    plt.plot(X, model.predict(X), color='black', lw=2)    \n",
        "    return \n",
        "\n",
        "class LinearRegressionGD(object):\n",
        "\n",
        "    def __init__(self, eta=0.001, n_iter=20):\n",
        "        self.eta = eta\n",
        "        self.n_iter = n_iter\n",
        "\n",
        "    def fit(self, X, y):\n",
        "        self.w_ = np.zeros(1 + X.shape[1])\n",
        "        self.cost_ = []\n",
        "\n",
        "        for i in range(self.n_iter):\n",
        "            output = self.net_input(X)\n",
        "            errors = (y - output)\n",
        "            self.w_[1:] += self.eta * X.T.dot(errors)\n",
        "            self.w_[0] += self.eta * errors.sum()\n",
        "            cost = (errors**2).sum() / 2.0\n",
        "            self.cost_.append(cost)\n",
        "        return self\n",
        "\n",
        "    def net_input(self, X):\n",
        "        return np.dot(X, self.w_[1:]) + self.w_[0]\n",
        "\n",
        "    def predict(self, X):\n",
        "        return self.net_input(X)\n",
        "      \n",
        "X = df[['RM']].values\n",
        "y = df['MEDV'].values\n",
        "\n",
        "from sklearn.preprocessing import StandardScaler\n",
        "import numpy as np\n",
        "\n",
        "sc_x = StandardScaler()\n",
        "sc_y = StandardScaler()\n",
        "X_std = sc_x.fit_transform(X)\n",
        "y_std = sc_y.fit_transform(y[:, np.newaxis]).flatten()\n",
        "\n",
        "from sklearn.linear_model import LinearRegression\n",
        "slr = LinearRegression()\n",
        "slr.fit(X, y)\n",
        "y_pred = slr.predict(X)\n",
        "print('Slope: %.3f' % slr.coef_[0])\n",
        "print('Intercept: %.3f' % slr.intercept_)\n",
        "# Slope: 9.102\n",
        "# Intercept: -34.671\n",
        "\n",
        "lin_regplot(X, y, slr)\n",
        "plt.xlabel('Average number of rooms [RM]')\n",
        "plt.ylabel('Price in $1000s [MEDV]')\n",
        "\n",
        "#plt.savefig('images/10_07.png', dpi=300)\n",
        "plt.show()\n",
        "\n"
      ],
      "metadata": {
        "colab": {
          "base_uri": "https://localhost:8080/",
          "height": 314
        },
        "id": "bYVsQYCIMfmg",
        "outputId": "c7a8d7f2-03a5-4f9b-dc30-8c076a3bc202"
      },
      "execution_count": 2,
      "outputs": [
        {
          "output_type": "stream",
          "name": "stdout",
          "text": [
            "Slope: 9.102\n",
            "Intercept: -34.671\n"
          ]
        },
        {
          "output_type": "display_data",
          "data": {
            "text/plain": [
              "<Figure size 432x288 with 1 Axes>"
            ],
            "image/png": "[encoded data removed]"
          },
          "metadata": {
            "needs_background": "light"
          }
        }
      ]
    },
    {
      "cell_type": "markdown",
      "source": [
        "部屋の数と住宅価格の相関が高い．\n",
        "\n",
        "ただし、部屋数だけでは説明しきれない場合が多いことも読み取れる．\n",
        "(y=50 でデータ列が一列に並んでいる．50で打ち切られている？上限は50?であることもわかる．)"
      ],
      "metadata": {
        "id": "wGrzMnU8wEml"
      }
    },
    {
      "cell_type": "markdown",
      "source": [
        "___\n",
        "# 10.4\n",
        "\n",
        "### RANSACを使ったロバスト回帰モデルの学習\n",
        "P288\n",
        "\n",
        "RANSACアルゴリズムと線形モデルを組み合わせる．\n"
      ],
      "metadata": {
        "id": "yHXVN66CzztU"
      }
    },
    {
      "cell_type": "code",
      "source": [
        "import numpy as np\n",
        "\n",
        "from sklearn.linear_model import RANSACRegressor\n",
        "from sklearn.linear_model import LinearRegression\n",
        "\n",
        "ransac = RANSACRegressor(LinearRegression(), \n",
        "                         max_trials=100,  # RANSACのイテレーションの最大数を100に設定\n",
        "                         min_samples=50,  # ランダムに選択される訓練データの最小数を50に設定\n",
        "                         #loss='absolute_loss',  # 学習直線に対する訓練データの縦の距離の絶対値を計算\n",
        "                         #  FutureWarning: The loss 'absolute_loss' was deprecated in v1.0 and will be removed in version 1.2. Use `loss='absolute_error'` which is equivalent. \n",
        "                         loss='absolute_error',  # 学習直線に対する訓練データの縦の距離の絶対値を計算\n",
        "                         residual_threshold= 5.0,  # ランダムサンプルから学習したモデルとの残差がこれ以内であれば「正常値」とみなす\n",
        "                         random_state=0)\n",
        "\n",
        "\n",
        "ransac.fit(X, y)\n",
        "\n"
      ],
      "metadata": {
        "colab": {
          "base_uri": "https://localhost:8080/"
        },
        "id": "F3niZZCEHnwl",
        "outputId": "89ea3928-fc50-48e9-bd94-6bb33cbe2a74"
      },
      "execution_count": 3,
      "outputs": [
        {
          "output_type": "execute_result",
          "data": {
            "text/plain": [
              "RANSACRegressor(base_estimator=LinearRegression(), min_samples=50,\n",
              "                random_state=0, residual_threshold=5.0)"
            ]
          },
          "metadata": {},
          "execution_count": 3
        }
      ]
    },
    {
      "cell_type": "markdown",
      "source": [
        " RANSACRegressor のイテレーションの最大数を 100 に設定している．\n",
        " \n",
        " min_samples=50 により， ランダムに選択される訓練データの最小数を 50 に設定している．\n",
        " \n",
        "loss パラメータへの引数と して 'absolute_loss' を指定することで，学習直線に対する訓練データの縦の距離の絶対値を計算させている．\n",
        " \n",
        "residual_threshold の引数に 5.0 を指定することでランダムサンプルから学習したモデルとの残差が5以内であれば「正常値」とみなす．\n",
        "\n",
        ">「誤差」と、「残差」は似ているように見えますが、異なる意味を持ちます。「誤差」は求めようとする真の回帰式から算出される値と実際のデータとの差を表します。真の回帰式はあくまでも理論的なものであるため、誤差を計算で求めることはできません。一方の「残差」は実際のデータを用いて推定された回帰式から算出される値と実際のデータとの差を表します。誤差とは異なり残差は計算で求められます。[予測値と残差]"
      ],
      "metadata": {
        "id": "jgmBheVSrye7"
      }
    },
    {
      "cell_type": "code",
      "source": [
        "\n",
        "inlier_mask = ransac.inlier_mask_ # 正常値を表す真偽値を取得\n",
        "outlier_mask = np.logical_not(inlier_mask) #  外れ値をあわらす真偽値を取得\n",
        "line_X = np.arange(3, 10, 1) #  3 ~ 9までの整数値\n",
        "line_y_ransac = ransac.predict(line_X[:, np.newaxis]) # 予測値を計算\n",
        "\n",
        "# 正常値をプロット\n",
        "plt.scatter(X[inlier_mask], y[inlier_mask],\n",
        "            c='steelblue', edgecolor='white', \n",
        "            marker='o', label='Inliers')\n",
        "# 外れ値をプロット\n",
        "plt.scatter(X[outlier_mask], y[outlier_mask],\n",
        "            c='limegreen', edgecolor='white', \n",
        "            marker='s', label='Outliers')\n",
        "# 予測値をプロット\n",
        "plt.plot(line_X, line_y_ransac, color='black', lw=2)   \n",
        "plt.xlabel('Average number of rooms [RM]')\n",
        "plt.ylabel('Price in $1000s [MEDV]')\n",
        "plt.legend(loc='upper left')\n",
        "\n",
        "plt.show()\n"
      ],
      "metadata": {
        "colab": {
          "base_uri": "https://localhost:8080/",
          "height": 279
        },
        "id": "49xMlhtCrtw9",
        "outputId": "f86fd661-ba38-4577-9a40-08a14091eb0c"
      },
      "execution_count": 4,
      "outputs": [
        {
          "output_type": "display_data",
          "data": {
            "text/plain": [
              "<Figure size 432x288 with 1 Axes>"
            ],
            "image/png": "[encoded data removed]"
          },
          "metadata": {
            "needs_background": "light"
          }
        }
      ]
    },
    {
      "cell_type": "markdown",
      "source": [
        "この図は，横軸に部屋の数，縦軸に住宅価格を取り，プロットしたものである．\n",
        "\n",
        "青い円が正常値と判断されたもので，緑の正方形が外れ値と判断されたものである．\n",
        "\n",
        "線形回帰モデルは検出された正常値(青い円)に適合していることがわかる．"
      ],
      "metadata": {
        "id": "b4_1f2pQvPUg"
      }
    },
    {
      "cell_type": "markdown",
      "source": [
        "###  RANSAC 無編集時の結果\n",
        "\n"
      ],
      "metadata": {
        "id": "lkNxhhYpn-7b"
      }
    },
    {
      "cell_type": "markdown",
      "source": [
        " ![RANSAC 無変更時の結果](https://drive.google.com/uc?export=view&id=1XuLRZM2a3zBLNA9dM55ME4KD-sN8VQlM)"
      ],
      "metadata": {
        "id": "9jKxs9u5icQu"
      }
    },
    {
      "cell_type": "markdown",
      "source": [
        "____\n",
        "### RANSACを使った結果の傾きと切片を出力"
      ],
      "metadata": {
        "id": "DxJAD0_Z3D0y"
      }
    },
    {
      "cell_type": "code",
      "source": [
        "print(\"RANSACを使った線形回帰直線\")\n",
        "print('Slope: %.3f' % ransac.estimator_.coef_[0])\n",
        "print('Intercept: %.3f' % ransac.estimator_.intercept_)\n",
        "\n",
        "print(\"_______________\\n前節でRANSACを使わずに出力した線形回帰直線\")\n",
        "print('Slope: %.3f' % slr.coef_[0])\n",
        "print('Intercept: %.3f' % slr.intercept_)\n"
      ],
      "metadata": {
        "colab": {
          "base_uri": "https://localhost:8080/"
        },
        "id": "LSalcLtJ3Adm",
        "outputId": "a85cf815-dc6e-4b48-d883-2c3cbdc16d5c"
      },
      "execution_count": 5,
      "outputs": [
        {
          "output_type": "stream",
          "name": "stdout",
          "text": [
            "RANSACを使った線形回帰直線\n",
            "Slope: 10.735\n",
            "Intercept: -44.089\n",
            "_______________\n",
            "前節でRANSACを使わずに出力した線形回帰直線\n",
            "Slope: 9.102\n",
            "Intercept: -34.671\n"
          ]
        }
      ]
    },
    {
      "cell_type": "markdown",
      "source": [
        "> * Slope (傾き)\n",
        "* Intercept(切片)\n",
        "\n",
        "RANSACを使わない結果と，線形回帰直線が少し異なる．\n",
        "\n",
        "RANSACを使ったことでこのデータセットの外れ値の影響は抑えられたが，この手法が未知のデータの予測にプラスに働くかどうかは分からない．そこで，回帰モデルを様々な手法で評価する方法を学ぶ．"
      ],
      "metadata": {
        "id": "TRs5fITT3ZWx"
      }
    },
    {
      "cell_type": "markdown",
      "source": [
        "\n",
        "# 10.5\n",
        "### 線形回帰モデルの性能評価 \n",
        "P290\n",
        "\n",
        "* モデルの汎化性能\n",
        "  * 訓練に使われなかったデータでモデルをテストすることが不可欠．\n",
        "\n",
        "* データセットを訓練データセットとテストデータセットに分割．\n",
        "  * 訓練データセットはモデルの学習に使う．  \n",
        "  * テストデータセットは汎化性能を推定するために未知のデータに対する評価に使う．\n",
        "\n",
        "ここでは，データセットの変数を全て使った重回帰モデルを訓練する．"
      ],
      "metadata": {
        "id": "WJv8YFvmYp6Y"
      }
    },
    {
      "cell_type": "code",
      "source": [
        "from sklearn.model_selection import train_test_split\n",
        "\n",
        "X = df.iloc[:, :-1].values\n",
        "y = df['MEDV'].values\n",
        "\n",
        "X_train, X_test, y_train, y_test = train_test_split(\n",
        "    X, y, test_size=0.3, random_state=0)\n",
        "\n",
        "slr = LinearRegression()\n",
        "\n",
        "slr.fit(X_train, y_train)\n",
        "y_train_pred = slr.predict(X_train)\n",
        "y_test_pred = slr.predict(X_test)"
      ],
      "metadata": {
        "id": "CUuP524RRfiS"
      },
      "execution_count": 6,
      "outputs": []
    },
    {
      "cell_type": "markdown",
      "source": [
        "複数の説明変数を使ったため，線形回帰直線(正確には超平面)を2次元のグラフとしてプロットすることはできない．\n",
        "\n",
        "しかし，線形回帰モデルを訓練するために，予測された値に対する残差(実際の値と予測された値の差，または縦の距離)をプロットすることは可能．\n",
        "\n",
        "その残差プロット(residual plot)は，回帰モデルを診断して非線形性や外れ値を検出し，誤差がランダムに分布しているかどうかをチェックするグラフィカルな解析によく使われている．\n",
        "\n",
        "### 線形回帰モデルの3つの仮定\n",
        "1. 誤差の期待値は0である．\n",
        "2. 誤差は互いに無相関である．\n",
        "3. 誤差の分散は等しい．\n",
        "\n",
        "\n",
        "データにモデルを適合させた後に，残差がこれらの条件を満たしているかどうかの確認は，データ解析の定石である．"
      ],
      "metadata": {
        "id": "tKh3kzv8Pwpi"
      }
    },
    {
      "cell_type": "markdown",
      "source": [
        "### 残差プロットを作成する．\n",
        "\n",
        "ここでは，\n",
        "\n",
        "目的変数の予測値 - 正解値\n",
        "\n",
        "を行っている．"
      ],
      "metadata": {
        "id": "7rLSmGDsSdUy"
      }
    },
    {
      "cell_type": "code",
      "source": [
        "plt.scatter(y_train_pred,  y_train_pred - y_train,\n",
        "            c='steelblue', marker='o', edgecolor='white',\n",
        "            label='Training data')\n",
        "\n",
        "plt.scatter(y_test_pred,  y_test_pred - y_test,\n",
        "            c='limegreen', marker='s', edgecolor='white',\n",
        "            label=' Test data ')\n",
        "\n",
        "plt.xlabel('Predicted values')\n",
        "plt.ylabel('Residuals')\n",
        "plt.legend(loc='upper left')\n",
        "plt.hlines(y=0, xmin=-10, xmax=50, color='black', lw=2)\n",
        "plt.xlim([-10, 50])\n",
        "plt.tight_layout()\n",
        "\n",
        "\n",
        "plt.show()"
      ],
      "metadata": {
        "colab": {
          "base_uri": "https://localhost:8080/",
          "height": 297
        },
        "id": "4Gq2fU09RmDt",
        "outputId": "0f962ac2-9dbe-4b2a-be9b-980d60ddcda5"
      },
      "execution_count": 7,
      "outputs": [
        {
          "output_type": "display_data",
          "data": {
            "text/plain": [
              "<Figure size 432x288 with 1 Axes>"
            ],
            "image/png": "[encoded data removed]"
          },
          "metadata": {
            "needs_background": "light"
          }
        }
      ]
    },
    {
      "cell_type": "markdown",
      "source": [
        "この図は，横軸が予測値，縦軸が残差(その値の正解値との差)を表している\n",
        "\n",
        "式は，予測値 - 正解値 であったので，Y軸の正の値の残差は，予測が高すぎることを示し，負の値は予測が低すぎることを示している．\n",
        "\n",
        "予測が完璧である場合，残差はちょうど0になるが，現実ではほぼないといわれている．\n",
        "\n",
        "理想的な残差プロット\n",
        "* 分布が対照的でプロットの中央に向かってクラスタを形成する．\n",
        "* Y軸の1桁台の小さい値の範囲にクラスタが形成される．\n",
        "* 明確なパターンがない\n",
        "\n",
        "良い回帰モデルでは，誤差がランダムに分布し，残差が中央の直線の周りにランダムに散らばる．\n",
        "\n",
        "残差プロットにパターンが見られる場合は，このモデルが何らかの説明情報を捕捉できていないことを意味する．\n",
        "\n",
        "中央の直線から大きく離れている点は外れ値であり，残差プロットを使って外れ値を検出することもできる．\n",
        "\n",
        "右下に変な直線のプロットがあり，これは住宅価格の上限が50で固定されていることが原因だと思われる．\n",
        "\n",
        "\n"
      ],
      "metadata": {
        "id": "TnW77Q8BU4OK"
      }
    },
    {
      "cell_type": "markdown",
      "source": [
        "### 平均二乗誤差\n",
        "\n",
        "MSE : Mean Squared Error\n",
        "\n",
        "$MSE = \\frac{1}{n} \\sum^{n}_{i=1} (y^{(i)} - \\hat y^{(i)})^{2}$\n",
        "\n",
        "実際の値と予測値の差の2乗を計算し，その総和を取り，データの総数で割った値．\n",
        "\n",
        "→値が小さいほど誤差が小さい"
      ],
      "metadata": {
        "id": "uve-NOiyhdGd"
      }
    },
    {
      "cell_type": "code",
      "source": [
        "from sklearn.metrics import r2_score\n",
        "from sklearn.metrics import mean_squared_error\n",
        "\n",
        "# 平均二乗誤差を出力\n",
        "print('MSE train: {:.3f}, test: {:.3f}'.format(\n",
        "        mean_squared_error(y_train, y_train_pred),\n",
        "        mean_squared_error(y_test, y_test_pred)))\n"
      ],
      "metadata": {
        "colab": {
          "base_uri": "https://localhost:8080/"
        },
        "id": "EtBI5-CFUwEu",
        "outputId": "3645ceb0-aa3b-4db6-aed8-cb0a1847f21a"
      },
      "execution_count": 8,
      "outputs": [
        {
          "output_type": "stream",
          "name": "stdout",
          "text": [
            "MSE train: 19.958, test: 27.196\n"
          ]
        }
      ]
    },
    {
      "cell_type": "markdown",
      "source": [
        "訓練データセットのMSEが19.96で，テストデータセットでのMSEが27.2と，訓練データセットよりもかなり大きい．\n",
        "\n",
        "この値はこのモデルが訓練データを過学習していることを表している．\n",
        "\n",
        "過学習しているため，テストデータに対して予測を間違うことが多く，誤差がかなり大きくなってしまっている．"
      ],
      "metadata": {
        "id": "-KcfQh8cn4EM"
      }
    },
    {
      "cell_type": "markdown",
      "source": [
        "### 決定係数 $ R^2$\n",
        "\n",
        "* モデルの性能をより効果的に解釈できるようにするための，標準化されたMSE(平均二乗誤差)\n",
        "\n",
        "* データに対するモデルの当てはまりの良さ（度合い）を表す．\n",
        "\n",
        "* 1に近いほど、モデルが実際のデータに当てはまっていることを表し，説明変数が目的変数をよく説明しているということになる．[決定係数と重相関係数](https://bellcurve.jp/statistics/course/9706.html)\n",
        "\n",
        "\n",
        "\\begin{equation}\n",
        "  R^2 = 1 - \\frac{MSE}{Var(y)}\n",
        "\\end{equation}\n",
        "\n",
        "$R^2$は範囲は0~1の値を取る．"
      ],
      "metadata": {
        "id": "OJq1HUGl65Fm"
      }
    },
    {
      "cell_type": "code",
      "source": [
        "\n",
        "# R ^ 2(決定係数) のスコアを出力\n",
        "print('R^2 train: {:.3f}, test: {:.3f}'.format(\n",
        "        r2_score(y_train, y_train_pred),\n",
        "        r2_score(y_test, y_test_pred)))\n",
        "\n"
      ],
      "metadata": {
        "colab": {
          "base_uri": "https://localhost:8080/"
        },
        "id": "H6hv8N5_n2po",
        "outputId": "fff4b6d3-7825-471a-de6c-74054dd0d472"
      },
      "execution_count": 9,
      "outputs": [
        {
          "output_type": "stream",
          "name": "stdout",
          "text": [
            "R^2 train: 0.765, test: 0.673\n"
          ]
        }
      ]
    },
    {
      "cell_type": "markdown",
      "source": [
        "訓練データを使った評価では，モデルの$R^2$は0.765であり，そこまで悪くはない．\n",
        "\n",
        "テストデータセットでの$R^2$は0.673となっており，訓練データと比べ，少しモデルがデータに当てはまっていないということが分かる．\n",
        "\n",
        "\n",
        "$R^2$ は0.5以上であれは精度は高いということができ，0.8以上であれば非常に高いといえる．\n",
        "[[相関と回帰について]](https://www.google.com/search?q=%E6%B1%BA%E5%AE%9A%E4%BF%82%E6%95%B0+%E3%81%A9%E3%82%8C%E3%81%8F%E3%82%89%E3%81%84&rlz=1C5CHFA_enJP846JP848&ei=JSKPYoypN5iS-Abel66ADQ&ved=0ahUKEwjMz7vWyPz3AhUYCd4KHd6LC9AQ4dUDCA4&uact=5&oq=%E6%B1%BA%E5%AE%9A%E4%BF%82%E6%95%B0+%E3%81%A9%E3%82%8C%E3%81%8F%E3%82%89%E3%81%84&gs_lcp=Cgdnd3Mtd2l6EAMyBQgAEIAEMggIABAeEA8QBToHCAAQRxCwAzoICAAQsQMQgwE6BAgAEEM6BwgAEIAEEAQ6BggAEB4QBUoECEEYAEoECEYYAFDlAljhDGDMEGgBcAF4AIABsQGIAb4LkgEEMC4xMJgBAKABAcgBCsABAQ&sclient=gws-wiz#:~:text=%E3%81%93%E3%81%AE%E6%B1%BA%E5%AE%9A%E4%BF%82%E6%95%B0%E3%81%8C%E3%81%A9%E3%82%8C%E3%81%8F%E3%82%89%E3%81%84%E3%81%82%E3%82%8C%E3%81%B0%E3%82%88%E3%81%84%20%E3%81%8B%E3%81%A8%E3%81%84%E3%81%86%E5%8E%B3%E5%AF%86%E3%81%AA%E5%9F%BA%E6%BA%96%E3%81%AF%E3%81%AA%E3%81%84%E3%81%8C%E3%80%81%E7%A4%BE%E4%BC%9A%E4%BA%8B%E8%B1%A1%E3%81%AE%20%E5%A0%B4%E5%90%88%E3%81%AB%E3%81%AF%E3%80%810.5%20%E4%BB%A5%E4%B8%8A%E3%81%A7%E3%81%82%E3%82%8C%E3%81%B0%E6%A6%82%E3%81%AD%E7%B2%BE%E5%BA%A6%E3%81%8C%E9%AB%98%20%E3%81%8F%E3%80%810.8%20%E4%BB%A5%E4%B8%8A%E3%81%A7%E3%81%82%E3%82%8C%E3%81%B0%E9%9D%9E%E5%B8%B8%E3%81%AB%E7%B2%BE%E5%BA%A6%E3%81%8C%E9%AB%98%E3%81%84%E3%81%A8%20%E3%81%84%E3%81%88%E3%82%8B%E3%80%82)"
      ],
      "metadata": {
        "id": "80oGkF_B7tJE"
      }
    },
    {
      "cell_type": "markdown",
      "source": [
        "### RANSACを使ったものではどうか・・？"
      ],
      "metadata": {
        "id": "DgPnhOU2gGYS"
      }
    },
    {
      "cell_type": "code",
      "source": [
        "\n",
        "ransac_test = RANSACRegressor(LinearRegression(), \n",
        "                         max_trials=100,  # RANSACのイテレーションの最大数を100に設定\n",
        "                         min_samples=50,  # ランダムに選択される訓練データの最小数を50に設定\n",
        "                         loss='absolute_loss',  # 学習直線に対する訓練データの縦の距離の絶対値を計算\n",
        "                         residual_threshold= 5.0,  # ランダムサンプルから学習したモデルとの残差がこれ以内であれば「正常値」とみなす\n",
        "                         random_state=0)\n",
        "\n",
        "\n",
        "ransac_test.fit(X_train, y_train)\n",
        "\n",
        "ransac2_train_pred = ransac_test.predict(X_train)\n",
        "ransac2_test_pred = ransac_test.predict(X_test)\n",
        "\n",
        "\n",
        "print('R^2 train: {:.3f}, test: {:.3f}'.format(\n",
        "        r2_score(y_train, ransac2_train_pred),\n",
        "        r2_score(y_test, ransac2_test_pred)))\n"
      ],
      "metadata": {
        "colab": {
          "base_uri": "https://localhost:8080/"
        },
        "id": "ikEOJLd1dXVf",
        "outputId": "74bbc9a0-4f28-4eeb-9814-31f866695419"
      },
      "execution_count": 26,
      "outputs": [
        {
          "output_type": "stream",
          "name": "stdout",
          "text": [
            "R^2 train: 0.711, test: 0.574\n"
          ]
        },
        {
          "output_type": "stream",
          "name": "stderr",
          "text": [
            "/usr/local/lib/python3.7/dist-packages/sklearn/linear_model/_ransac.py:358: FutureWarning: The loss 'absolute_loss' was deprecated in v1.0 and will be removed in version 1.2. Use `loss='absolute_error'` which is equivalent.\n",
            "  FutureWarning,\n"
          ]
        }
      ]
    },
    {
      "cell_type": "markdown",
      "source": [
        "RANSACを使ったものの結果はresidual_threshold= 5.0の時，\n",
        "```\n",
        "R^2 train: 0.711, test: 0.574\n",
        "```\n",
        "\n",
        "と，全てのデータを学習した LinearRegression()よりも低くなっている．\n",
        "\n",
        "また．residual_thresholdを大きくしていくとtestの結果も良くなっていく．そのことから今回のデータセットは外れ値のように見えるデータでも何かしら予測に必要な要素を持っており，全てのデータ，説明変数を使用した方が良いのではないかと思われる．\n",
        "\n"
      ],
      "metadata": {
        "id": "soTJTaGuhXhS"
      }
    },
    {
      "cell_type": "markdown",
      "source": [
        "___\n",
        "# 10.6\n",
        "### 回帰に正則化手法を使う\n",
        "P293"
      ],
      "metadata": {
        "id": "eZ4EBZ4_ZC66"
      }
    },
    {
      "cell_type": "markdown",
      "source": [
        "### リッジ回帰モデル\n",
        "\n",
        "\\begin{equation}\n",
        "  J(w)_{Ridge} = \\sum^{n}_{i=1} (y^{(i)} - \\hat y^{(i)})^2 + \\lambda ||w||^{2}_{2}\n",
        "\\end{equation}\n",
        "\n",
        "\n",
        "正則化の強さはハイパーパラメータである$\\alpha$パラメータによって制御される．モデルの精度を見ながら変更を行う．\n",
        "\n",
        "\n",
        "リッジ回帰モデルを初期化するコードは次のようになる．\n",
        "\n"
      ],
      "metadata": {
        "id": "ynd-glqBqQCR"
      }
    },
    {
      "cell_type": "code",
      "source": [
        "from sklearn.linear_model import Ridge\n",
        "ridge = Ridge(alpha=1.0) # L2ペナルティ項の影響度合いを表す値を引数に指定"
      ],
      "metadata": {
        "id": "ATQex9ywUB0m"
      },
      "execution_count": 11,
      "outputs": []
    },
    {
      "cell_type": "markdown",
      "source": [
        "### LASSO\n",
        "\\begin{equation}\n",
        "  J(w)_{LASSO} = \\sum^{n}_{i=1} (y^{(i)} - \\hat y^{(i)} )^{2} + \\lambda ||w||_{1}  \n",
        "\\end{equation}\n",
        "\n",
        "\n",
        "正則化の強さは リッジ回帰と同様にalphaパラメータによって制御される．\n",
        "\n",
        "正則化の強さによっては，特定の変数の重みが0になることがある．\n",
        "このため，LASSOは教師ありの特徴量選択の手法としても役立つ\n",
        "\n",
        "linear_modelサブモジュールのLASSO回機器を初期化するコードも同様である．\n",
        "\n"
      ],
      "metadata": {
        "id": "aqYXNhzXUJ0v"
      }
    },
    {
      "cell_type": "code",
      "source": [
        "from sklearn.linear_model import Lasso\n",
        "lasso = Lasso(alpha=1.0)\n"
      ],
      "metadata": {
        "id": "wltALs2bUJjR"
      },
      "execution_count": 12,
      "outputs": []
    },
    {
      "cell_type": "markdown",
      "source": [
        "___\n",
        "### Elastic Net\n",
        "\n",
        "* リッジ回帰とLASSOを合成した手法．\n",
        "* LASSOと同じように，Elastic Netでは，ゼロ値の係数を生成することにより，次元削減されたモデルを生成できる．\n",
        "\n",
        "\n",
        "\\begin{equation}\n",
        "  J(w) _{Elastic Net} = \\sum^{n}_{i=1} (y^{(i)} - \\hat y^{(i)})^{2} + \\lambda _{1} \\sum^{m}_{j=1} w^{2}_{j} + \\lambda _{2} \\sum^{m}_{j=1}|w_{j}| \n",
        "\\end{equation}\n",
        "\n",
        "\n",
        "* パラメータ alpha\n",
        "  * パラメータの学習に制限をかけ，過学習を防ぐ仕組みがあり，その制限をかけるための係数．float値，デフォルト値は1.0\n",
        "  * 高いほど制限が強くかかる．\n",
        "* パラメータ l1_ratio\n",
        "  * L1とL2の比率を変える．float値，デフォルト値は0.5．$ 0 \\leq $ l1_ratio $ \\leq 1.0 $\n",
        "  * 大きくするとL1側に近づく．\n",
        "  (Redge回帰はL2ペナルティを使い，LASSOはL1ペナルティを使う．L1_ratio(L1の割合)を大きくするとLASSOに近づく．)\n",
        "\n"
      ],
      "metadata": {
        "id": "mAocI_OnUZKx"
      }
    },
    {
      "cell_type": "code",
      "source": [
        "from sklearn.linear_model import ElasticNet\n",
        "\n",
        "\n",
        "elanet = ElasticNet(alpha=1.0, l1_ratio=0.5)"
      ],
      "metadata": {
        "id": "hsGZceGaUdx7"
      },
      "execution_count": 13,
      "outputs": []
    },
    {
      "cell_type": "markdown",
      "source": [
        "___\n",
        "### 実際に動きを確認する"
      ],
      "metadata": {
        "id": "4pr5_iARUgXS"
      }
    },
    {
      "cell_type": "markdown",
      "source": [
        "#### Redge回帰"
      ],
      "metadata": {
        "id": "0-D2alBAUQU4"
      }
    },
    {
      "cell_type": "code",
      "source": [
        "\n",
        "\n",
        "from sklearn.linear_model import Ridge\n",
        "from sklearn.datasets import load_boston\n",
        "import numpy as np\n",
        "import pandas as pd\n",
        "import matplotlib.pyplot as plt\n",
        "import seaborn as sns\n",
        "from sklearn.preprocessing import StandardScaler\n",
        "\n",
        "df = pd.read_csv('https://raw.githubusercontent.com/rasbt/'\n",
        "                 'python-machine-learning-book-3rd-edition/'\n",
        "                 'master/ch10/housing.data.txt',\n",
        "                 header=None,\n",
        "                 sep='\\s+')\n",
        "\n",
        "df.columns = ['CRIM', 'ZN', 'INDUS', 'CHAS', \n",
        "              'NOX', 'RM', 'AGE', 'DIS', 'RAD', \n",
        "              'TAX', 'PTRATIO', 'B', 'LSTAT', 'MEDV']\n",
        "df.head()\n",
        "\n",
        "X = df[['CRIM', 'ZN', 'INDUS', 'CHAS', \n",
        "              'NOX', 'RM', 'AGE', 'DIS', 'RAD', \n",
        "              'TAX', 'PTRATIO', 'B', 'LSTAT','RM']].values # 説明変数を力づくでいれる\n",
        "\n",
        "y = df['MEDV'].values # 目的変数\n",
        "\n",
        "from sklearn.model_selection import train_test_split\n",
        "from sklearn.linear_model import LinearRegression\n",
        "\n",
        "X_train, X_test, y_train, y_test = train_test_split(\n",
        "    X, y, test_size=0.3, random_state=0)\n",
        "\n",
        "# slr = LinearRegression()\n",
        "# slr.fit(X_train, y_train)\n",
        "\n",
        "X = StandardScaler().fit_transform(X)\n",
        "clf1 = LinearRegression().fit(X, y)\n",
        "clf2 = Ridge(alpha=10).fit(X, y) # L2ペナルティの度合い alpha\n",
        "clf3 = Ridge(alpha=100).fit(X, y)\n",
        "\n",
        "plt.plot(clf1.coef_, label='alpha=0', color='r', linestyle=':')\n",
        "plt.plot(clf2.coef_, label='alpha=10', color='g', linestyle='-.')\n",
        "plt.plot(clf3.coef_, label='alpha=100', color='b', linestyle='--')\n",
        "# coef_ : 偏回帰係数 (各説明変数の係数のこと)\n",
        "# 重回帰分析という複数の独立変数を用いて従属変数を表す回帰分析において\n",
        "# 回帰式の中に現れる傾きを表す係数のこと\n",
        "# 重みとも呼ばれ、幾何学的には直線の傾きに相当する\n",
        "# 偏回帰係数という言葉における「偏」という意味は\n",
        "# 他の独立変数の影響を除外した場合のその変数の重みという意味で用いられる\n",
        "\n",
        "#  (大きい方が，目的変数に与える影響が大きい，影響力が強い．？)\n",
        "\n",
        "plt.xlabel('Features', fontsize=12) # 特徴量\n",
        "plt.ylabel('Coefficient', fontsize=12) # 係数\n",
        "plt.legend();\n",
        "\n",
        "\n"
      ],
      "metadata": {
        "id": "Q7EpbnJtU3P5",
        "colab": {
          "base_uri": "https://localhost:8080/",
          "height": 282
        },
        "outputId": "a7a6330f-e7d6-4a80-95a7-06225370bd82"
      },
      "execution_count": 14,
      "outputs": [
        {
          "output_type": "display_data",
          "data": {
            "text/plain": [
              "<Figure size 432x288 with 1 Axes>"
            ],
            "image/png": "[encoded data removed]"
          },
          "metadata": {
            "needs_background": "light"
          }
        }
      ]
    },
    {
      "cell_type": "markdown",
      "source": [
        "この図は，x軸がそれぞれの特徴量，y軸が偏回帰係数(それぞれの説明変数にかかる係数)を表している．8の特徴量RAD(高速道路へのアクセスのしやすさ)が重みの大きなものとなっている事がわかる．\n",
        "> * RAD \n",
        "   * 幹線道路へのアクセス指数\n",
        "\n",
        "そして，alphaの値を大きくするほど強い正則化となるため，中央によっていることが分かる．\n",
        "\n",
        "偏回帰係数がマイナスになったからといって重回帰分析がおかしいとすぐには言えない．\n",
        "\n",
        "合理的に考えてマイナスになるべきであれば間違っていない．\n",
        "\n",
        "12番目の値であるLSTATは低所得者の割合．低所得者の割合は低いほど住宅価格は高くなることはおかしくはない．\n",
        " \n",
        "> * LSTAT \n",
        "  * 低所得者の割合\n",
        "\n",
        "しかし，本来偏回帰係数がプラスになると想定していたのにマイナスになった場合は多重線形性が原因でないかどうか検討する必要がある．"
      ],
      "metadata": {
        "id": "PzjczlSe9FOw"
      }
    },
    {
      "cell_type": "code",
      "source": [
        "coef_df = pd.DataFrame({'clf1_線形回帰': clf1.coef_,\n",
        "                                      'clf2_alpha=10': clf2.coef_,\n",
        "                                      'clf3_alpha=100': clf3.coef_},\n",
        "                       index=df.columns)\n",
        "coef_df"
      ],
      "metadata": {
        "colab": {
          "base_uri": "https://localhost:8080/",
          "height": 488
        },
        "id": "5ezvssTRsNN6",
        "outputId": "a9f5dc94-0309-49ad-ff7e-a358f795d4ba"
      },
      "execution_count": 15,
      "outputs": [
        {
          "output_type": "execute_result",
          "data": {
            "text/plain": [
              "         clf1_線形回帰  clf2_alpha=10  clf3_alpha=100\n",
              "CRIM     -0.928146      -0.857962       -0.646174\n",
              "ZN        1.081569       0.947056        0.535768\n",
              "INDUS     0.140900      -0.034163       -0.349578\n",
              "CHAS      0.681740       0.706417        0.724858\n",
              "NOX      -2.056718      -1.806336       -0.899022\n",
              "RM        1.337115       1.396213        1.581379\n",
              "AGE       0.019466      -0.044333       -0.220485\n",
              "DIS      -3.104044      -2.847704       -1.643658\n",
              "RAD       2.662218       2.084731        0.651830\n",
              "TAX      -2.076782      -1.559600       -0.596310\n",
              "PTRATIO  -2.060607      -1.980146       -1.607113\n",
              "B         0.849268       0.848878        0.800069\n",
              "LSTAT    -3.743627      -3.592079       -2.775043\n",
              "MEDV      1.337115       1.396213        1.581379"
            ],
            "text/html": [
              "\n",
              "  <div id=\"df-99e1c89f-e4e5-4202-97fe-a83ee359d341\">\n",
              "    <div class=\"colab-df-container\">\n",
              "      <div>\n",
              "<style scoped>\n",
              "    .dataframe tbody tr th:only-of-type {\n",
              "        vertical-align: middle;\n",
              "    }\n",
              "\n",
              "    .dataframe tbody tr th {\n",
              "        vertical-align: top;\n",
              "    }\n",
              "\n",
              "    .dataframe thead th {\n",
              "        text-align: right;\n",
              "    }\n",
              "</style>\n",
              "<table border=\"1\" class=\"dataframe\">\n",
              "  <thead>\n",
              "    <tr style=\"text-align: right;\">\n",
              "      <th></th>\n",
              "      <th>clf1_線形回帰</th>\n",
              "      <th>clf2_alpha=10</th>\n",
              "      <th>clf3_alpha=100</th>\n",
              "    </tr>\n",
              "  </thead>\n",
              "  <tbody>\n",
              "    <tr>\n",
              "      <th>CRIM</th>\n",
              "      <td>-0.928146</td>\n",
              "      <td>-0.857962</td>\n",
              "      <td>-0.646174</td>\n",
              "    </tr>\n",
              "    <tr>\n",
              "      <th>ZN</th>\n",
              "      <td>1.081569</td>\n",
              "      <td>0.947056</td>\n",
              "      <td>0.535768</td>\n",
              "    </tr>\n",
              "    <tr>\n",
              "      <th>INDUS</th>\n",
              "      <td>0.140900</td>\n",
              "      <td>-0.034163</td>\n",
              "      <td>-0.349578</td>\n",
              "    </tr>\n",
              "    <tr>\n",
              "      <th>CHAS</th>\n",
              "      <td>0.681740</td>\n",
              "      <td>0.706417</td>\n",
              "      <td>0.724858</td>\n",
              "    </tr>\n",
              "    <tr>\n",
              "      <th>NOX</th>\n",
              "      <td>-2.056718</td>\n",
              "      <td>-1.806336</td>\n",
              "      <td>-0.899022</td>\n",
              "    </tr>\n",
              "    <tr>\n",
              "      <th>RM</th>\n",
              "      <td>1.337115</td>\n",
              "      <td>1.396213</td>\n",
              "      <td>1.581379</td>\n",
              "    </tr>\n",
              "    <tr>\n",
              "      <th>AGE</th>\n",
              "      <td>0.019466</td>\n",
              "      <td>-0.044333</td>\n",
              "      <td>-0.220485</td>\n",
              "    </tr>\n",
              "    <tr>\n",
              "      <th>DIS</th>\n",
              "      <td>-3.104044</td>\n",
              "      <td>-2.847704</td>\n",
              "      <td>-1.643658</td>\n",
              "    </tr>\n",
              "    <tr>\n",
              "      <th>RAD</th>\n",
              "      <td>2.662218</td>\n",
              "      <td>2.084731</td>\n",
              "      <td>0.651830</td>\n",
              "    </tr>\n",
              "    <tr>\n",
              "      <th>TAX</th>\n",
              "      <td>-2.076782</td>\n",
              "      <td>-1.559600</td>\n",
              "      <td>-0.596310</td>\n",
              "    </tr>\n",
              "    <tr>\n",
              "      <th>PTRATIO</th>\n",
              "      <td>-2.060607</td>\n",
              "      <td>-1.980146</td>\n",
              "      <td>-1.607113</td>\n",
              "    </tr>\n",
              "    <tr>\n",
              "      <th>B</th>\n",
              "      <td>0.849268</td>\n",
              "      <td>0.848878</td>\n",
              "      <td>0.800069</td>\n",
              "    </tr>\n",
              "    <tr>\n",
              "      <th>LSTAT</th>\n",
              "      <td>-3.743627</td>\n",
              "      <td>-3.592079</td>\n",
              "      <td>-2.775043</td>\n",
              "    </tr>\n",
              "    <tr>\n",
              "      <th>MEDV</th>\n",
              "      <td>1.337115</td>\n",
              "      <td>1.396213</td>\n",
              "      <td>1.581379</td>\n",
              "    </tr>\n",
              "  </tbody>\n",
              "</table>\n",
              "</div>\n",
              "      <button class=\"colab-df-convert\" onclick=\"convertToInteractive('df-99e1c89f-e4e5-4202-97fe-a83ee359d341')\"\n",
              "              title=\"Convert this dataframe to an interactive table.\"\n",
              "              style=\"display:none;\">\n",
              "        \n",
              "  <svg xmlns=\"http://www.w3.org/2000/svg\" height=\"24px\"viewBox=\"0 0 24 24\"\n",
              "       width=\"24px\">\n",
              "    <path d=\"M0 0h24v24H0V0z\" fill=\"none\"/>\n",
              "    <path d=\"M18.56 5.44l.94 2.06.94-2.06 2.06-.94-2.06-.94-.94-2.06-.94 2.06-2.06.94zm-11 1L8.5 8.5l.94-2.06 2.06-.94-2.06-.94L8.5 2.5l-.94 2.06-2.06.94zm10 10l.94 2.06.94-2.06 2.06-.94-2.06-.94-.94-2.06-.94 2.06-2.06.94z\"/><path d=\"M17.41 7.96l-1.37-1.37c-.4-.4-.92-.59-1.43-.59-.52 0-1.04.2-1.43.59L10.3 9.45l-7.72 7.72c-.78.78-.78 2.05 0 2.83L4 21.41c.39.39.9.59 1.41.59.51 0 1.02-.2 1.41-.59l7.78-7.78 2.81-2.81c.8-.78.8-2.07 0-2.86zM5.41 20L4 18.59l7.72-7.72 1.47 1.35L5.41 20z\"/>\n",
              "  </svg>\n",
              "      </button>\n",
              "      \n",
              "  <style>\n",
              "    .colab-df-container {\n",
              "      display:flex;\n",
              "      flex-wrap:wrap;\n",
              "      gap: 12px;\n",
              "    }\n",
              "\n",
              "    .colab-df-convert {\n",
              "      background-color: #E8F0FE;\n",
              "      border: none;\n",
              "      border-radius: 50%;\n",
              "      cursor: pointer;\n",
              "      display: none;\n",
              "      fill: #1967D2;\n",
              "      height: 32px;\n",
              "      padding: 0 0 0 0;\n",
              "      width: 32px;\n",
              "    }\n",
              "\n",
              "    .colab-df-convert:hover {\n",
              "      background-color: #E2EBFA;\n",
              "      box-shadow: 0px 1px 2px rgba(60, 64, 67, 0.3), 0px 1px 3px 1px rgba(60, 64, 67, 0.15);\n",
              "      fill: #174EA6;\n",
              "    }\n",
              "\n",
              "    [theme=dark] .colab-df-convert {\n",
              "      background-color: #3B4455;\n",
              "      fill: #D2E3FC;\n",
              "    }\n",
              "\n",
              "    [theme=dark] .colab-df-convert:hover {\n",
              "      background-color: #434B5C;\n",
              "      box-shadow: 0px 1px 3px 1px rgba(0, 0, 0, 0.15);\n",
              "      filter: drop-shadow(0px 1px 2px rgba(0, 0, 0, 0.3));\n",
              "      fill: #FFFFFF;\n",
              "    }\n",
              "  </style>\n",
              "\n",
              "      <script>\n",
              "        const buttonEl =\n",
              "          document.querySelector('#df-99e1c89f-e4e5-4202-97fe-a83ee359d341 button.colab-df-convert');\n",
              "        buttonEl.style.display =\n",
              "          google.colab.kernel.accessAllowed ? 'block' : 'none';\n",
              "\n",
              "        async function convertToInteractive(key) {\n",
              "          const element = document.querySelector('#df-99e1c89f-e4e5-4202-97fe-a83ee359d341');\n",
              "          const dataTable =\n",
              "            await google.colab.kernel.invokeFunction('convertToInteractive',\n",
              "                                                     [key], {});\n",
              "          if (!dataTable) return;\n",
              "\n",
              "          const docLinkHtml = 'Like what you see? Visit the ' +\n",
              "            '<a target=\"_blank\" href=https://colab.research.google.com/notebooks/data_table.ipynb>data table notebook</a>'\n",
              "            + ' to learn more about interactive tables.';\n",
              "          element.innerHTML = '';\n",
              "          dataTable['output_type'] = 'display_data';\n",
              "          await google.colab.output.renderOutput(dataTable, element);\n",
              "          const docLink = document.createElement('div');\n",
              "          docLink.innerHTML = docLinkHtml;\n",
              "          element.appendChild(docLink);\n",
              "        }\n",
              "      </script>\n",
              "    </div>\n",
              "  </div>\n",
              "  "
            ]
          },
          "metadata": {},
          "execution_count": 15
        }
      ]
    },
    {
      "cell_type": "markdown",
      "source": [
        "実際にそれぞれの係数の値を出力するとこのようになっており，8個目のRAD(高速道路へのアクセスのしやすさ)の重みの大きさはこの表からも分かる．\n",
        "\n",
        "正則化を強くしたclf3は値が小さくなっていることも分かる．"
      ],
      "metadata": {
        "id": "vyjPeX0S9wXD"
      }
    },
    {
      "cell_type": "markdown",
      "source": [
        "#### LASSO"
      ],
      "metadata": {
        "id": "DR1J6_JbqTtP"
      }
    },
    {
      "cell_type": "code",
      "source": [
        "from sklearn.linear_model import Lasso\n",
        "\n",
        "Lasso_alpha = 1.0\n",
        "clf5 = Lasso(alpha=Lasso_alpha).fit(X, y)\n",
        "\n",
        "plt.plot(clf1.coef_, label='LinearRegression', color='r', linestyle=':')\n",
        "plt.plot(clf5.coef_, label='Lasso alpha=' + str(Lasso_alpha), color='g', linestyle='-.')\n",
        "plt.plot(clf3.coef_, label='Ridge alpha=100', color='b', linestyle='--')\n",
        "plt.xlabel('Features', fontsize=10)\n",
        "plt.ylabel('Coefficient', fontsize=10)\n",
        "plt.legend();"
      ],
      "metadata": {
        "id": "8Wc5gplVX69W",
        "colab": {
          "base_uri": "https://localhost:8080/",
          "height": 282
        },
        "outputId": "89356b21-ab17-4fb7-fede-504451174b40"
      },
      "execution_count": 38,
      "outputs": [
        {
          "output_type": "display_data",
          "data": {
            "text/plain": [
              "<Figure size 432x288 with 1 Axes>"
            ],
            "image/png": "[encoded data removed]"
          },
          "metadata": {
            "needs_background": "light"
          }
        }
      ]
    },
    {
      "cell_type": "markdown",
      "source": [
        "緑色の線がLASSOの結果である．\n",
        "\n",
        "LASSOの特徴であった，特徴量の回帰係数が０になっている部分があることが確認できる．\n",
        "\n",
        "重回帰分析(LinerRegression)やリッジ回帰(Ridge)と比べ，よりシンプルで分かりやすいモデルであると言える．\n",
        "\n"
      ],
      "metadata": {
        "id": "72F04-RP0uy0"
      }
    },
    {
      "cell_type": "code",
      "source": [
        "coef_df = pd.DataFrame({'clf5': clf5.coef_},\n",
        "                       index=df.columns)\n",
        "coef_df"
      ],
      "metadata": {
        "colab": {
          "base_uri": "https://localhost:8080/",
          "height": 488
        },
        "id": "cBAwg8d0VSEo",
        "outputId": "d42ed2ff-0591-4f55-86dc-a33365a49b4f"
      },
      "execution_count": 39,
      "outputs": [
        {
          "output_type": "execute_result",
          "data": {
            "text/plain": [
              "             clf5\n",
              "CRIM    -0.000000\n",
              "ZN       0.000000\n",
              "INDUS   -0.000000\n",
              "CHAS     0.000000\n",
              "NOX     -0.000000\n",
              "RM       2.713355\n",
              "AGE     -0.000000\n",
              "DIS     -0.000000\n",
              "RAD     -0.000000\n",
              "TAX     -0.000000\n",
              "PTRATIO -1.343549\n",
              "B        0.180957\n",
              "LSTAT   -3.543381\n",
              "MEDV     0.000000"
            ],
            "text/html": [
              "\n",
              "  <div id=\"df-76419ebf-6169-4310-a226-549ef488e045\">\n",
              "    <div class=\"colab-df-container\">\n",
              "      <div>\n",
              "<style scoped>\n",
              "    .dataframe tbody tr th:only-of-type {\n",
              "        vertical-align: middle;\n",
              "    }\n",
              "\n",
              "    .dataframe tbody tr th {\n",
              "        vertical-align: top;\n",
              "    }\n",
              "\n",
              "    .dataframe thead th {\n",
              "        text-align: right;\n",
              "    }\n",
              "</style>\n",
              "<table border=\"1\" class=\"dataframe\">\n",
              "  <thead>\n",
              "    <tr style=\"text-align: right;\">\n",
              "      <th></th>\n",
              "      <th>clf5</th>\n",
              "    </tr>\n",
              "  </thead>\n",
              "  <tbody>\n",
              "    <tr>\n",
              "      <th>CRIM</th>\n",
              "      <td>-0.000000</td>\n",
              "    </tr>\n",
              "    <tr>\n",
              "      <th>ZN</th>\n",
              "      <td>0.000000</td>\n",
              "    </tr>\n",
              "    <tr>\n",
              "      <th>INDUS</th>\n",
              "      <td>-0.000000</td>\n",
              "    </tr>\n",
              "    <tr>\n",
              "      <th>CHAS</th>\n",
              "      <td>0.000000</td>\n",
              "    </tr>\n",
              "    <tr>\n",
              "      <th>NOX</th>\n",
              "      <td>-0.000000</td>\n",
              "    </tr>\n",
              "    <tr>\n",
              "      <th>RM</th>\n",
              "      <td>2.713355</td>\n",
              "    </tr>\n",
              "    <tr>\n",
              "      <th>AGE</th>\n",
              "      <td>-0.000000</td>\n",
              "    </tr>\n",
              "    <tr>\n",
              "      <th>DIS</th>\n",
              "      <td>-0.000000</td>\n",
              "    </tr>\n",
              "    <tr>\n",
              "      <th>RAD</th>\n",
              "      <td>-0.000000</td>\n",
              "    </tr>\n",
              "    <tr>\n",
              "      <th>TAX</th>\n",
              "      <td>-0.000000</td>\n",
              "    </tr>\n",
              "    <tr>\n",
              "      <th>PTRATIO</th>\n",
              "      <td>-1.343549</td>\n",
              "    </tr>\n",
              "    <tr>\n",
              "      <th>B</th>\n",
              "      <td>0.180957</td>\n",
              "    </tr>\n",
              "    <tr>\n",
              "      <th>LSTAT</th>\n",
              "      <td>-3.543381</td>\n",
              "    </tr>\n",
              "    <tr>\n",
              "      <th>MEDV</th>\n",
              "      <td>0.000000</td>\n",
              "    </tr>\n",
              "  </tbody>\n",
              "</table>\n",
              "</div>\n",
              "      <button class=\"colab-df-convert\" onclick=\"convertToInteractive('df-76419ebf-6169-4310-a226-549ef488e045')\"\n",
              "              title=\"Convert this dataframe to an interactive table.\"\n",
              "              style=\"display:none;\">\n",
              "        \n",
              "  <svg xmlns=\"http://www.w3.org/2000/svg\" height=\"24px\"viewBox=\"0 0 24 24\"\n",
              "       width=\"24px\">\n",
              "    <path d=\"M0 0h24v24H0V0z\" fill=\"none\"/>\n",
              "    <path d=\"M18.56 5.44l.94 2.06.94-2.06 2.06-.94-2.06-.94-.94-2.06-.94 2.06-2.06.94zm-11 1L8.5 8.5l.94-2.06 2.06-.94-2.06-.94L8.5 2.5l-.94 2.06-2.06.94zm10 10l.94 2.06.94-2.06 2.06-.94-2.06-.94-.94-2.06-.94 2.06-2.06.94z\"/><path d=\"M17.41 7.96l-1.37-1.37c-.4-.4-.92-.59-1.43-.59-.52 0-1.04.2-1.43.59L10.3 9.45l-7.72 7.72c-.78.78-.78 2.05 0 2.83L4 21.41c.39.39.9.59 1.41.59.51 0 1.02-.2 1.41-.59l7.78-7.78 2.81-2.81c.8-.78.8-2.07 0-2.86zM5.41 20L4 18.59l7.72-7.72 1.47 1.35L5.41 20z\"/>\n",
              "  </svg>\n",
              "      </button>\n",
              "      \n",
              "  <style>\n",
              "    .colab-df-container {\n",
              "      display:flex;\n",
              "      flex-wrap:wrap;\n",
              "      gap: 12px;\n",
              "    }\n",
              "\n",
              "    .colab-df-convert {\n",
              "      background-color: #E8F0FE;\n",
              "      border: none;\n",
              "      border-radius: 50%;\n",
              "      cursor: pointer;\n",
              "      display: none;\n",
              "      fill: #1967D2;\n",
              "      height: 32px;\n",
              "      padding: 0 0 0 0;\n",
              "      width: 32px;\n",
              "    }\n",
              "\n",
              "    .colab-df-convert:hover {\n",
              "      background-color: #E2EBFA;\n",
              "      box-shadow: 0px 1px 2px rgba(60, 64, 67, 0.3), 0px 1px 3px 1px rgba(60, 64, 67, 0.15);\n",
              "      fill: #174EA6;\n",
              "    }\n",
              "\n",
              "    [theme=dark] .colab-df-convert {\n",
              "      background-color: #3B4455;\n",
              "      fill: #D2E3FC;\n",
              "    }\n",
              "\n",
              "    [theme=dark] .colab-df-convert:hover {\n",
              "      background-color: #434B5C;\n",
              "      box-shadow: 0px 1px 3px 1px rgba(0, 0, 0, 0.15);\n",
              "      filter: drop-shadow(0px 1px 2px rgba(0, 0, 0, 0.3));\n",
              "      fill: #FFFFFF;\n",
              "    }\n",
              "  </style>\n",
              "\n",
              "      <script>\n",
              "        const buttonEl =\n",
              "          document.querySelector('#df-76419ebf-6169-4310-a226-549ef488e045 button.colab-df-convert');\n",
              "        buttonEl.style.display =\n",
              "          google.colab.kernel.accessAllowed ? 'block' : 'none';\n",
              "\n",
              "        async function convertToInteractive(key) {\n",
              "          const element = document.querySelector('#df-76419ebf-6169-4310-a226-549ef488e045');\n",
              "          const dataTable =\n",
              "            await google.colab.kernel.invokeFunction('convertToInteractive',\n",
              "                                                     [key], {});\n",
              "          if (!dataTable) return;\n",
              "\n",
              "          const docLinkHtml = 'Like what you see? Visit the ' +\n",
              "            '<a target=\"_blank\" href=https://colab.research.google.com/notebooks/data_table.ipynb>data table notebook</a>'\n",
              "            + ' to learn more about interactive tables.';\n",
              "          element.innerHTML = '';\n",
              "          dataTable['output_type'] = 'display_data';\n",
              "          await google.colab.output.renderOutput(dataTable, element);\n",
              "          const docLink = document.createElement('div');\n",
              "          docLink.innerHTML = docLinkHtml;\n",
              "          element.appendChild(docLink);\n",
              "        }\n",
              "      </script>\n",
              "    </div>\n",
              "  </div>\n",
              "  "
            ]
          },
          "metadata": {},
          "execution_count": 39
        }
      ]
    },
    {
      "cell_type": "markdown",
      "source": [
        "実際にそれぞれの値を出力するとこのようになっており，ほとんどの説明変数の係数が0になっている．\n",
        "RM(1戸当たりの「平均部屋数」)や，LSTAT(低所得者人口の割合)が重要な変数であることがわかる．\n",
        "\n",
        "しかし，Redge回帰で重要であると思われたRAD(幹線道路へのアクセスのしやすや)も0になってしまっている．"
      ],
      "metadata": {
        "id": "4avsQCC1Vhzz"
      }
    },
    {
      "cell_type": "markdown",
      "source": [
        "####  LASSO 無編集時の結果\n",
        "\n"
      ],
      "metadata": {
        "id": "3un0ydG55YTx"
      }
    },
    {
      "cell_type": "markdown",
      "source": [
        "![LASSOの結果](https://drive.google.com/uc?export=view&id=1o_84UWTdifzMjUl9uVGEzUsu0pjNWc3a)"
      ],
      "metadata": {
        "id": "dzx6tzAz4zQy"
      }
    },
    {
      "cell_type": "markdown",
      "source": [
        "#### まとめ\n"
      ],
      "metadata": {
        "id": "ttWF3rb0BjBd"
      }
    },
    {
      "cell_type": "markdown",
      "source": [
        "* Ridge回帰\n",
        "  * 係数の値の大きさが発散してしまうのを防ぐ\n",
        "  * 過学習を防ぐ\n",
        "  * 特徴量の削減(係数を0にする)ことには向いてない\n",
        "* Lasso回帰\n",
        "  * 不要な特徴量を削る(次元削減)\n",
        "  * 相関の高い特徴量をどちらも残すことができない\n",
        "\n",
        "この二つの回帰の長所を合わせ持つのがElastic Net"
      ],
      "metadata": {
        "id": "eJF8MZnBWmaE"
      }
    },
    {
      "cell_type": "markdown",
      "source": [
        "#### Elastic Net"
      ],
      "metadata": {
        "id": "zwqEML9JqavR"
      }
    },
    {
      "cell_type": "code",
      "source": [
        "from sklearn.linear_model import ElasticNet\n",
        "import matplotlib.pyplot as plt\n",
        "\n",
        "elanet_alpha = 1.0\n",
        "\n",
        "clf6 = ElasticNet(alpha=elanet_alpha, l1_ratio=0.5).fit(X,y)\n",
        "\n",
        "plt.plot(clf6.coef_, label='ElasticNet alpha =' + str(elanet_alpha), color='r', linestyle=':')\n",
        "plt.plot(clf5.coef_, label='Lasso alpha=1', color='g', linestyle='-.')\n",
        "plt.plot(clf3.coef_, label='Ridge alpha=100', color='b', linestyle='--')\n",
        "plt.xlabel('Features', fontsize=10)\n",
        "plt.ylabel('Coefficient', fontsize=10)\n",
        "plt.legend();"
      ],
      "metadata": {
        "id": "3ZrLy39aYAW0",
        "colab": {
          "base_uri": "https://localhost:8080/",
          "height": 283
        },
        "outputId": "3aa44983-1f91-4c09-eefa-753b73fb0a47"
      },
      "execution_count": 31,
      "outputs": [
        {
          "output_type": "display_data",
          "data": {
            "text/plain": [
              "<Figure size 432x288 with 1 Axes>"
            ],
            "image/png": "[encoded data removed]"
          },
          "metadata": {
            "needs_background": "light"
          }
        }
      ]
    },
    {
      "cell_type": "markdown",
      "source": [
        "l1_ratioを1.0に設定すると，L2ペナルティがなくなるため，Elastic Net回機器はLASSO回機器と等しくなる．0 に向かって小さくすると，だんだんリッジ回帰に近づく．\n",
        "\n",
        "\n",
        "実際にプロットすると，Elastic Netは リッジ回帰とLASSOの間にあるということが分かった．\n",
        "\n",
        "5番目や12番目の特徴量の部分は，\n",
        "Ridge回帰の係数の値の大きさが発散してしまうのを防ぐという特徴が現れており，LASSOのように発散せず，0によっている．\n",
        "\n",
        "6．7番目の特徴量は削除することができており，LASSOの不要な特徴量を削る特徴も現れている．\n",
        " \n",
        "\n",
        "※線形回帰の様々な実装については[scikit-learnの公式ドキュメント](https://scikit-learn.org/stable/modules/linear_model.html)に詳しい説明あり．"
      ],
      "metadata": {
        "id": "E25IlW9erUGW"
      }
    },
    {
      "cell_type": "markdown",
      "source": [
        "#### ElasticNet 無編集時の結果\n",
        "\n"
      ],
      "metadata": {
        "id": "Ctg-9Gvpl1oK"
      }
    },
    {
      "cell_type": "markdown",
      "source": [
        "![ElasticNet](https://drive.google.com/uc?export=view&id=1gNx4S0kS3DG9yCg2ynYjo7ExZYWWsIj1)"
      ],
      "metadata": {
        "id": "xVXp83LQmH1P"
      }
    },
    {
      "cell_type": "markdown",
      "source": [
        "____\n",
        "\n",
        "### Elastic Netを使って線形回帰LinearRegressionより良いモデルを作る．\n",
        "\n",
        "* 回帰モデルの評価値は$R^2$を使う．"
      ],
      "metadata": {
        "id": "tOWeuZWsGpHa"
      }
    },
    {
      "cell_type": "markdown",
      "source": [
        "#### まず線形回帰．\n",
        " * 10.5のものと同じ．"
      ],
      "metadata": {
        "id": "CYBMdJc8LOz0"
      }
    },
    {
      "cell_type": "code",
      "source": [
        "# LinearRegression__________________________________\n",
        "\n",
        "from sklearn.model_selection import train_test_split\n",
        "from sklearn.metrics import r2_score\n",
        "\n",
        "X2 = df.iloc[:, :-1].values\n",
        "y2 = df['MEDV'].values\n",
        "\n",
        "X2_train, X2_test, y2_train, y2_test = train_test_split(\n",
        "    X2, y2, test_size=0.3, random_state=0)\n",
        "slr = LinearRegression()\n",
        "\n",
        "slr.fit(X2_train, y2_train)\n",
        "slr_train_pred = slr.predict(X2_train)\n",
        "slr_test_pred = slr.predict(X2_test)\n",
        "\n",
        "\n",
        "# 線形回帰LinearRegressionの結果\n",
        "print('R^2 train: {:.3f}, test: {:.3f}'.format(\n",
        "        r2_score(y2_train, slr_train_pred),\n",
        "        r2_score(y2_test, slr_test_pred)))\n"
      ],
      "metadata": {
        "colab": {
          "base_uri": "https://localhost:8080/"
        },
        "id": "MwQHKPVRH5Vv",
        "outputId": "e236c6fe-ef71-4fec-aade-02ed687a8ab7"
      },
      "execution_count": 19,
      "outputs": [
        {
          "output_type": "stream",
          "name": "stdout",
          "text": [
            "R^2 train: 0.765, test: 0.673\n"
          ]
        }
      ]
    },
    {
      "cell_type": "markdown",
      "source": [
        "#### 次にElastic Net回帰モデル\n",
        "* 適切なハイパーパラメータを探索するためにクロスバリデーションを行った．\n",
        "\n",
        "* ElasticNetCVというCV付きの関数を発見できた\n",
        "[[API Reference]](https://scikit-learn.org/stable/modules/classes.html#:~:text=linear_model.ElasticNetCV(*%5B%2C%C2%A0l1_ratio%2C%C2%A0...%5D))．"
      ],
      "metadata": {
        "id": "kJeVFT-fLYvn"
      }
    },
    {
      "cell_type": "code",
      "source": [
        "# Elastic Net________________________________________\n",
        "from sklearn.linear_model import ElasticNetCV\n",
        "from sklearn.metrics import r2_score\n",
        "import numpy as np\n",
        "\n",
        "\n",
        "ela_alphas = np.arange(0.1, 10, 0.1) # 0.1から10まで公差0.1\n",
        "\n",
        "\n",
        "# ela_l1_ratio = np.linspace(0, 1, 0.1) \n",
        "# 'float' object cannot be interpreted as an integer 公差は整数のみ\n",
        "ela_l1_ratio = np.arange(1, 100, 1) / 100 # 0から1まで公差0.01 \n",
        "# 0, 1, 2, 3, → 0,  0.01, 0.02, 0.03\n",
        "\n",
        "\n",
        "ela_regressor = ElasticNetCV(alphas= ela_alphas,\n",
        "                          l1_ratio=ela_l1_ratio,\n",
        "                          cv = 10)\n",
        "\n",
        "#  ConvergenceWarning: Objective did not converge. You might want to increase the number of iterations. \n",
        "# 収束しない，反復回数増やす．  \n",
        "\n",
        "# Cannot have number of splits n_splits=1000 greater than the number of samples: n_samples=354.\n",
        "# 354が最大\n",
        "\n",
        "\n",
        "ela_regressor.fit(X2_train, y2_train)\n",
        "\n",
        "\n",
        "print('正則化パラメータalpha:',ela_regressor.alpha_)\n",
        "print('L1の割合:',ela_regressor.l1_ratio_)\n",
        "\n",
        "\n",
        "ela_train_pred = ela_regressor.predict(X2_train)\n",
        "ela_test_pred = ela_regressor.predict(X2_test)\n",
        "\n",
        "# Elastic Netの結果\n",
        "print('R^2 train: {:.3f}, test: {:.3f}'.format(\n",
        "        r2_score(y2_train, ela_train_pred),\n",
        "        r2_score(y2_test, ela_test_pred)))\n",
        "\n"
      ],
      "metadata": {
        "colab": {
          "base_uri": "https://localhost:8080/"
        },
        "id": "22PcozJsKNme",
        "outputId": "3aa16e76-51f4-4f61-eb1e-90489e331ce1"
      },
      "execution_count": 20,
      "outputs": [
        {
          "output_type": "stream",
          "name": "stdout",
          "text": [
            "正則化パラメータalpha: 0.1\n",
            "L1の割合: 0.01\n",
            "R^2 train: 0.750, test: 0.652\n"
          ]
        }
      ]
    },
    {
      "cell_type": "markdown",
      "source": [
        "結果\n",
        "\n",
        "正則化パラメータalpha: 0.1\n",
        "\n",
        "L1の割合: 0.01\n",
        "\n",
        "R^2 train: 0.750, test: 0.652\n",
        "___\n",
        "#### Ridge回帰だとどうなるか．\n",
        "\n",
        "* RedgeCV\n"
      ],
      "metadata": {
        "id": "SiZWUTkDft0-"
      }
    },
    {
      "cell_type": "code",
      "source": [
        "from sklearn.linear_model import RidgeCV\n",
        "from sklearn.metrics import r2_score\n",
        "import numpy as np\n",
        "\n",
        "r_alphas = np.arange(0.1, 10, 0.1) # 0.1から10まで公差0.1\n",
        "\n",
        "r_cv = RidgeCV(alphas=r_alphas,cv = 10)\n",
        "\n",
        "r_cv.fit(X2_train, y2_train)\n",
        "\n",
        "\n",
        "print('正則化パラメータalpha:',r_cv.alpha_)\n",
        "\n",
        "\n",
        "r_train_pred = r_cv.predict(X2_train)\n",
        "r_test_pred = r_cv.predict(X2_test)\n",
        "\n",
        "# Elastic Netの結果\n",
        "print('R^2 train: {:.3f}, test: {:.3f}'.format(\n",
        "        r2_score(y2_train, r_train_pred),\n",
        "        r2_score(y2_test, r_test_pred)))\n",
        "\n"
      ],
      "metadata": {
        "colab": {
          "base_uri": "https://localhost:8080/"
        },
        "id": "KvgLdBmSf8lq",
        "outputId": "14bdc51e-0166-4b14-8ed2-63f2e32fcfa8"
      },
      "execution_count": 21,
      "outputs": [
        {
          "output_type": "stream",
          "name": "stdout",
          "text": [
            "正則化パラメータalpha: 0.2\n",
            "R^2 train: 0.764, test: 0.672\n"
          ]
        }
      ]
    },
    {
      "cell_type": "markdown",
      "source": [
        "alphaをより細かく．\n"
      ],
      "metadata": {
        "id": "ZYNnTc8xiyn7"
      }
    },
    {
      "cell_type": "code",
      "source": [
        "r2_alphas = np.arange(0.1, 10, 0.001) # 0.1から10まで公差0.001\n",
        "\n",
        "r2_cv = RidgeCV(alphas=r2_alphas,cv = 10)\n",
        "\n",
        "r2_cv.fit(X2_train, y2_train)\n",
        "\n",
        "\n",
        "print('正則化パラメータalpha:',r2_cv.alpha_)\n",
        "\n",
        "\n",
        "r2_train_pred = r2_cv.predict(X2_train)\n",
        "r2_test_pred = r2_cv.predict(X2_test)\n",
        "\n",
        "# Redge回帰の結果\n",
        "print('R^2 train: {:.3f}, test: {:.3f}'.format(\n",
        "        r2_score(y2_train, r2_train_pred),\n",
        "        r2_score(y2_test, r2_test_pred)))\n"
      ],
      "metadata": {
        "id": "Qj25o1B1i1kQ",
        "colab": {
          "base_uri": "https://localhost:8080/"
        },
        "outputId": "46d68ad9-e66c-4f77-99b2-a5fa3cb4e80a"
      },
      "execution_count": 22,
      "outputs": [
        {
          "output_type": "stream",
          "name": "stdout",
          "text": [
            "正則化パラメータalpha: 0.18700000000000008\n",
            "R^2 train: 0.764, test: 0.672\n"
          ]
        }
      ]
    },
    {
      "cell_type": "markdown",
      "source": [
        "#### グラフ化\n",
        "残差プロット"
      ],
      "metadata": {
        "id": "ztaC_hO3raQC"
      }
    },
    {
      "cell_type": "code",
      "source": [
        "# グラフ化する\n",
        "\n",
        "\n",
        "plt.scatter(ela_test_pred,  ela_test_pred  - y_test,\n",
        "            c='b', marker='o', edgecolor='white',\n",
        "            label=' Elastic Net')\n",
        "\n",
        "plt.scatter(slr_test_pred,  slr_test_pred - y_test,\n",
        "            c='g', marker='s', edgecolor='white',\n",
        "            label=' LinearRegression ')\n",
        "\n",
        "\n",
        "plt.scatter(r2_test_pred,  r2_test_pred  - y_test,\n",
        "            c='r', marker='^', edgecolor='white',\n",
        "            label=' Redge ')\n",
        "\n",
        "plt.xlabel('Predicted values')\n",
        "plt.ylabel('Residuals')\n",
        "plt.legend(loc='upper left')\n",
        "plt.hlines(y=0, xmin=-10, xmax=50, color='black', lw=2)\n",
        "plt.xlim([-10, 50])\n",
        "plt.tight_layout()\n",
        "\n",
        "\n",
        "plt.show()\n"
      ],
      "metadata": {
        "id": "LQY20S7uo7FQ",
        "colab": {
          "base_uri": "https://localhost:8080/",
          "height": 297
        },
        "outputId": "e4bec647-3e07-49ea-aaba-b4f58b5aa5b2"
      },
      "execution_count": 23,
      "outputs": [
        {
          "output_type": "display_data",
          "data": {
            "text/plain": [
              "<Figure size 432x288 with 1 Axes>"
            ],
            "image/png": "[encoded data removed]"
          },
          "metadata": {
            "needs_background": "light"
          }
        }
      ]
    },
    {
      "cell_type": "markdown",
      "source": [
        "今回の様々なモデル作成とその決定係数の結果をまとめると，\n",
        "```\n",
        "* LinearRegression\n",
        "  \n",
        "  R^2 train: 0.765, test: 0.673\n",
        "\n",
        "* Elastic Net\n",
        "  \n",
        "  正則化パラメータalpha: 0.1，L1の割合: 0.01\n",
        "  \n",
        "  R^2 train: 0.750, test: 0.652\n",
        "\n",
        "* Redge回帰\n",
        "\n",
        "  正則化パラメータalpha: 0.18700000000000008\n",
        "\n",
        "  R^2 train: 0.764, test: 0.672\n",
        "```\n",
        "\n",
        "このような結果であった．\n",
        "\n",
        "\n",
        "実際にプロットしてみると，LinearRegressionとRedge回帰はほとんど似た結果であることがグラフからも分かる．\n",
        "\n",
        "試行錯誤してもあまり結果を伸ばすことのできなかった青い円でプロットされているElastic Netは少し離れた箇所にプロットされているものが多いことが分かる．\n",
        "\n",
        "Elastic Netのクロスバリデーションの結果がL1_ratio = 0.01とほぼRedge寄りになっていた\n",
        "> (Redge回帰はL2ペナルティを使い，LASSOはL1ペナルティを使う．L1_ratio(L1の割合)を大きくするとLASSOに近づく．L1_ratio(L1の割合)が小さいということはLASSOの割合が小さい．つまりほぼRedge回帰)\n",
        "\n",
        "\n",
        "ことから，この分類にはLASSOはあまり向いておらずRedge回帰とLASSOを足し合わせたElasticNetのLASSOの部分が結果を下げる原因となっていたと考えられる．\n",
        "\n",
        "ElasticNetはRedge回帰とLASSOの長所を持ち合わせた一番良いものであるように思えるが，器用貧乏なモデルでもあり，まずRedge回帰とLASSOを使って良い結果が得られないようであればその二つの結果を見ながらパラメータを調節し，ElasticNetを使ってみるという使い方でも良いという意見もあった．"
      ],
      "metadata": {
        "id": "-FLOpGtnVESS"
      }
    },
    {
      "cell_type": "markdown",
      "source": [
        "____\n",
        "### 参考\n",
        "* [RANSAC(Random Sample Consensus)とは：アルゴリズム、最小二乗法との違い、読み方](https://quantcollege.net/financial-machine-learning-ransac-explained)\n",
        "* [ロバスト推定(robust estimation)](http://www.sanko-shoko.net/note.php?id=rc9y)\n",
        "* [予測値と残差](https://bellcurve.jp/statistics/course/9704.html#:~:text=%E2%96%A0-,%E6%AE%8B%E5%B7%AE%E3%81%A8%E8%AA%A4%E5%B7%AE,-27%2D1%E7%AB%A0)\n",
        "* [残差プロットの解釈による回帰分析の向上](https://www.qualtrics.com/jp/support/stats-iq/getting-started-with-stats-iq/regression-guides/interpreting-residual-plots-to-improve-your-regression/#:~:text=%E3%81%84%E3%81%84%E3%81%88-,%E4%BA%88%E6%B8%AC%E5%80%A4%E3%81%A8%E6%AE%8B%E5%B7%AE%E5%80%A4%E3%81%AE%E6%A4%9C%E8%A8%BC%EF%BC%88%E3%80%8C%E6%AE%8B%E5%B7%AE%E3%83%97%E3%83%AD%E3%83%83%E3%83%88%E3%80%8D%EF%BC%89,-%E6%AE%8B%E5%B7%AE%E3%82%92)\n",
        "* [平均二乗誤差MSE とは](https://aiacademy.jp/media/?p=2975)\n",
        "* [[損失関数/評価関数] 平均二乗誤差(MSE)/RMSEとは？](https://atmarkit.itmedia.co.jp/ait/articles/2105/24/news019.html)\n",
        "* [残差平方和RSS/[損失関数]二乗和誤差SSEとは？](https://atmarkit.itmedia.co.jp/ait/articles/2111/22/news011.html#:~:text=%E4%BA%8C%E4%B9%97%E5%92%8C%E8%AA%A4%E5%B7%AE%E3%81%AF%E3%80%81%E6%90%8D%E5%A4%B1,%E5%89%B2%E3%81%A3%E3%81%9F%E5%80%A4%E3%82%92%E8%A1%A8%E3%81%99%E3%80%82)\n",
        "* [決定係数と重相関係数](https://bellcurve.jp/statistics/course/9706.html)\n",
        "* [機械学習の回帰における評価指標に関して学ぼう](https://aiacademy.jp/media/?p=261)\n",
        "* [線形回帰の過学習を抑えよう〜Ridge回帰とLasso回帰〜](https://www.n-insight.co.jp/niblog/20190917-1351/)\n",
        "* [リッジ回帰とラッソ回帰の理論と実装を初めから丁寧に](https://qiita.com/Takayoshi_Makabe/items/8f6dcb25124b9dcb1ae8)\n",
        "* [偏回帰係数とはどんな意味がある？回帰係数との違いやマイナスな時の解釈は？](https://best-biostatistics.com/summary/henkaiki.html)\n",
        "*[リッジ回帰とラッソ回帰の理論と実装を初めから丁寧に](https://qiita.com/Takayoshi_Makabe/items/8f6dcb25124b9dcb1ae8)\n",
        "* [LASSO および Elastic Net](https://jp.mathworks.com/help/stats/lasso-and-elastic-net.html)\n",
        "* [Python機械学習ライブラリScikit-learn その２２：糖尿病患者のデータセットを使って、ElasticNetモデルのオプションを試してみる](https://3pysci.com/python-sklearn-22/)"
      ],
      "metadata": {
        "id": "Ul6gIxfMMPdu"
      }
    }
  ]
}